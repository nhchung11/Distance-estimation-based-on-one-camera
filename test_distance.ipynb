{
 "cells": [
  {
   "cell_type": "code",
   "execution_count": 20,
   "metadata": {},
   "outputs": [],
   "source": [
    "import numpy as np\n",
    "import cv2\n",
    "import math\n",
    "import folium"
   ]
  },
  {
   "cell_type": "code",
   "execution_count": 21,
   "metadata": {},
   "outputs": [],
   "source": [
    "# Extrinsic parameters (tham số ngoại bao gồm vị trí và hướng camera)\n",
    "# Camera position\n",
    "UAV_lat = 21.0037898\n",
    "UAV_lon = 105.8430253\n",
    "\n",
    "# Compass dỉection\n",
    "p = 0                 # degrees\n",
    "\n",
    "# Camera height\n",
    "H = 0.85                # meters\n",
    "\n",
    "# Camera angle\n",
    "alpha = 75              # degrees\n",
    "\n",
    "height = 0.85           # meters\n",
    "distacne_meter = 1.63   # meters\n",
    "distance_pixcel = 240   # pixcels"
   ]
  },
  {
   "cell_type": "code",
   "execution_count": 22,
   "metadata": {},
   "outputs": [],
   "source": [
    "camera_angle = 75       # degrees\n",
    "distance = 100          # meters    "
   ]
  },
  {
   "cell_type": "code",
   "execution_count": null,
   "metadata": {},
   "outputs": [
    {
     "name": "stdout",
     "output_type": "stream",
     "text": [
      "Target Latitude: 21.003664635966018\n",
      "Target Longitude: 105.84207134754752\n"
     ]
    }
   ],
   "source": [
    "def calculate_target_coordinates(current_lat, current_lon, compass_degree, target_distance):\n",
    "    # Convert compass degree to radians\n",
    "    compass_rad = math.radians(compass_degree)\n",
    "\n",
    "    # Convert current latitude and longitude to radians\n",
    "    current_lat_rad = math.radians(current_lat)\n",
    "    current_lon_rad = math.radians(current_lon)\n",
    "\n",
    "    # Earth radius in meters\n",
    "    earth_radius = 6371000\n",
    "\n",
    "    # Calculate the target latitude\n",
    "    target_lat_rad = math.asin(math.sin(current_lat_rad) * math.cos(target_distance / earth_radius) +\n",
    "                               math.cos(current_lat_rad) * math.sin(target_distance / earth_radius) * math.cos(compass_rad))\n",
    "\n",
    "    # Calculate the target longitude\n",
    "    target_lon_rad = current_lon_rad + math.atan2(math.sin(compass_rad) * math.sin(target_distance / earth_radius) * math.cos(current_lat_rad),\n",
    "                                                  math.cos(target_distance / earth_radius) - math.sin(current_lat_rad) * math.sin(target_lat_rad))\n",
    "\n",
    "    # Convert target latitude and longitude back to degrees\n",
    "    target_lat = math.degrees(target_lat_rad)\n",
    "    target_lon = math.degrees(target_lon_rad)\n",
    "\n",
    "    return target_lat, target_lon"
   ]
  },
  {
   "cell_type": "code",
   "execution_count": 23,
   "metadata": {},
   "outputs": [
    {
     "name": "stdout",
     "output_type": "stream",
     "text": [
      "Target Latitude: 21.00468912160592\n",
      "Target Longitude: 105.8430253\n"
     ]
    }
   ],
   "source": [
    "target_lat, target_lon = calculate_target_coordinates(UAV_lat, UAV_lon, p, distance)\n",
    "\n",
    "\n",
    "print(\"Target Latitude:\", target_lat)\n",
    "print(\"Target Longitude:\", target_lon)"
   ]
  },
  {
   "cell_type": "code",
   "execution_count": 24,
   "metadata": {},
   "outputs": [
    {
     "data": {
      "text/html": [
       "<div style=\"width:100%;\"><div style=\"position:relative;width:100%;height:0;padding-bottom:60%;\"><span style=\"color:#565656\">Make this Notebook Trusted to load map: File -> Trust Notebook</span><iframe srcdoc=\"&lt;!DOCTYPE html&gt;\n",
       "&lt;html&gt;\n",
       "&lt;head&gt;\n",
       "    \n",
       "    &lt;meta http-equiv=&quot;content-type&quot; content=&quot;text/html; charset=UTF-8&quot; /&gt;\n",
       "    \n",
       "        &lt;script&gt;\n",
       "            L_NO_TOUCH = false;\n",
       "            L_DISABLE_3D = false;\n",
       "        &lt;/script&gt;\n",
       "    \n",
       "    &lt;style&gt;html, body {width: 100%;height: 100%;margin: 0;padding: 0;}&lt;/style&gt;\n",
       "    &lt;style&gt;#map {position:absolute;top:0;bottom:0;right:0;left:0;}&lt;/style&gt;\n",
       "    &lt;script src=&quot;https://cdn.jsdelivr.net/npm/leaflet@1.9.3/dist/leaflet.js&quot;&gt;&lt;/script&gt;\n",
       "    &lt;script src=&quot;https://code.jquery.com/jquery-3.7.1.min.js&quot;&gt;&lt;/script&gt;\n",
       "    &lt;script src=&quot;https://cdn.jsdelivr.net/npm/bootstrap@5.2.2/dist/js/bootstrap.bundle.min.js&quot;&gt;&lt;/script&gt;\n",
       "    &lt;script src=&quot;https://cdnjs.cloudflare.com/ajax/libs/Leaflet.awesome-markers/2.0.2/leaflet.awesome-markers.js&quot;&gt;&lt;/script&gt;\n",
       "    &lt;link rel=&quot;stylesheet&quot; href=&quot;https://cdn.jsdelivr.net/npm/leaflet@1.9.3/dist/leaflet.css&quot;/&gt;\n",
       "    &lt;link rel=&quot;stylesheet&quot; href=&quot;https://cdn.jsdelivr.net/npm/bootstrap@5.2.2/dist/css/bootstrap.min.css&quot;/&gt;\n",
       "    &lt;link rel=&quot;stylesheet&quot; href=&quot;https://netdna.bootstrapcdn.com/bootstrap/3.0.0/css/bootstrap.min.css&quot;/&gt;\n",
       "    &lt;link rel=&quot;stylesheet&quot; href=&quot;https://cdn.jsdelivr.net/npm/@fortawesome/fontawesome-free@6.2.0/css/all.min.css&quot;/&gt;\n",
       "    &lt;link rel=&quot;stylesheet&quot; href=&quot;https://cdnjs.cloudflare.com/ajax/libs/Leaflet.awesome-markers/2.0.2/leaflet.awesome-markers.css&quot;/&gt;\n",
       "    &lt;link rel=&quot;stylesheet&quot; href=&quot;https://cdn.jsdelivr.net/gh/python-visualization/folium/folium/templates/leaflet.awesome.rotate.min.css&quot;/&gt;\n",
       "    \n",
       "            &lt;meta name=&quot;viewport&quot; content=&quot;width=device-width,\n",
       "                initial-scale=1.0, maximum-scale=1.0, user-scalable=no&quot; /&gt;\n",
       "            &lt;style&gt;\n",
       "                #map_84ea081de0d8910b5c46ad90ae6df154 {\n",
       "                    position: relative;\n",
       "                    width: 100.0%;\n",
       "                    height: 100.0%;\n",
       "                    left: 0.0%;\n",
       "                    top: 0.0%;\n",
       "                }\n",
       "                .leaflet-container { font-size: 1rem; }\n",
       "            &lt;/style&gt;\n",
       "        \n",
       "&lt;/head&gt;\n",
       "&lt;body&gt;\n",
       "    \n",
       "    \n",
       "            &lt;div class=&quot;folium-map&quot; id=&quot;map_84ea081de0d8910b5c46ad90ae6df154&quot; &gt;&lt;/div&gt;\n",
       "        \n",
       "&lt;/body&gt;\n",
       "&lt;script&gt;\n",
       "    \n",
       "    \n",
       "            var map_84ea081de0d8910b5c46ad90ae6df154 = L.map(\n",
       "                &quot;map_84ea081de0d8910b5c46ad90ae6df154&quot;,\n",
       "                {\n",
       "                    center: [21.0037898, 105.8430253],\n",
       "                    crs: L.CRS.EPSG3857,\n",
       "                    zoom: 15,\n",
       "                    zoomControl: true,\n",
       "                    preferCanvas: false,\n",
       "                }\n",
       "            );\n",
       "\n",
       "            \n",
       "\n",
       "        \n",
       "    \n",
       "            var tile_layer_82d5cfd52ae1ce03c9caa863f09b289d = L.tileLayer(\n",
       "                &quot;https://tile.openstreetmap.org/{z}/{x}/{y}.png&quot;,\n",
       "                {&quot;attribution&quot;: &quot;\\u0026copy; \\u003ca href=\\&quot;https://www.openstreetmap.org/copyright\\&quot;\\u003eOpenStreetMap\\u003c/a\\u003e contributors&quot;, &quot;detectRetina&quot;: false, &quot;maxNativeZoom&quot;: 19, &quot;maxZoom&quot;: 19, &quot;minZoom&quot;: 0, &quot;noWrap&quot;: false, &quot;opacity&quot;: 1, &quot;subdomains&quot;: &quot;abc&quot;, &quot;tms&quot;: false}\n",
       "            );\n",
       "        \n",
       "    \n",
       "            tile_layer_82d5cfd52ae1ce03c9caa863f09b289d.addTo(map_84ea081de0d8910b5c46ad90ae6df154);\n",
       "        \n",
       "    \n",
       "            var marker_93fd3e44ae3fb32a4b309340f4b71c54 = L.marker(\n",
       "                [21.0037898, 105.8430253],\n",
       "                {}\n",
       "            ).addTo(map_84ea081de0d8910b5c46ad90ae6df154);\n",
       "        \n",
       "    \n",
       "        var popup_7f07e0e5c9ed0d69cedbb57c8d904212 = L.popup({&quot;maxWidth&quot;: &quot;100%&quot;});\n",
       "\n",
       "        \n",
       "            \n",
       "                var html_e504a2b41ab5e380f764a8e0938788c3 = $(`&lt;div id=&quot;html_e504a2b41ab5e380f764a8e0938788c3&quot; style=&quot;width: 100.0%; height: 100.0%;&quot;&gt;UAV&lt;/div&gt;`)[0];\n",
       "                popup_7f07e0e5c9ed0d69cedbb57c8d904212.setContent(html_e504a2b41ab5e380f764a8e0938788c3);\n",
       "            \n",
       "        \n",
       "\n",
       "        marker_93fd3e44ae3fb32a4b309340f4b71c54.bindPopup(popup_7f07e0e5c9ed0d69cedbb57c8d904212)\n",
       "        ;\n",
       "\n",
       "        \n",
       "    \n",
       "    \n",
       "            var marker_e912556df51bda7d6ae1d39e929d44ce = L.marker(\n",
       "                [21.00468912160592, 105.8430253],\n",
       "                {}\n",
       "            ).addTo(map_84ea081de0d8910b5c46ad90ae6df154);\n",
       "        \n",
       "    \n",
       "            var icon_12be7e0ae64f64a18dd8cf57b2c6955b = L.AwesomeMarkers.icon(\n",
       "                {&quot;extraClasses&quot;: &quot;fa-rotate-0&quot;, &quot;icon&quot;: &quot;info-sign&quot;, &quot;iconColor&quot;: &quot;white&quot;, &quot;markerColor&quot;: &quot;red&quot;, &quot;prefix&quot;: &quot;glyphicon&quot;}\n",
       "            );\n",
       "            marker_e912556df51bda7d6ae1d39e929d44ce.setIcon(icon_12be7e0ae64f64a18dd8cf57b2c6955b);\n",
       "        \n",
       "    \n",
       "        var popup_d5c04d6881b01db08c4398b157739744 = L.popup({&quot;maxWidth&quot;: &quot;100%&quot;});\n",
       "\n",
       "        \n",
       "            \n",
       "                var html_21e318fdc27ee552f474567433f021c2 = $(`&lt;div id=&quot;html_21e318fdc27ee552f474567433f021c2&quot; style=&quot;width: 100.0%; height: 100.0%;&quot;&gt;Target&lt;/div&gt;`)[0];\n",
       "                popup_d5c04d6881b01db08c4398b157739744.setContent(html_21e318fdc27ee552f474567433f021c2);\n",
       "            \n",
       "        \n",
       "\n",
       "        marker_e912556df51bda7d6ae1d39e929d44ce.bindPopup(popup_d5c04d6881b01db08c4398b157739744)\n",
       "        ;\n",
       "\n",
       "        \n",
       "    \n",
       "&lt;/script&gt;\n",
       "&lt;/html&gt;\" style=\"position:absolute;width:100%;height:100%;left:0;top:0;border:none !important;\" allowfullscreen webkitallowfullscreen mozallowfullscreen></iframe></div></div>"
      ],
      "text/plain": [
       "<folium.folium.Map at 0x26484d7f010>"
      ]
     },
     "execution_count": 24,
     "metadata": {},
     "output_type": "execute_result"
    }
   ],
   "source": [
    "m = folium.Map(location=[UAV_lat, UAV_lon], zoom_start=15)\n",
    "folium.Marker(location=[UAV_lat, UAV_lon], popup='UAV').add_to(m)\n",
    "folium.Marker(location=[target_lat, target_lon], popup='Target', icon=folium.Icon(color=\"red\")).add_to(m)\n",
    "m"
   ]
  }
 ],
 "metadata": {
  "kernelspec": {
   "display_name": "venv",
   "language": "python",
   "name": "python3"
  },
  "language_info": {
   "codemirror_mode": {
    "name": "ipython",
    "version": 3
   },
   "file_extension": ".py",
   "mimetype": "text/x-python",
   "name": "python",
   "nbconvert_exporter": "python",
   "pygments_lexer": "ipython3",
   "version": "3.10.11"
  }
 },
 "nbformat": 4,
 "nbformat_minor": 2
}
