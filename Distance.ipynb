{
 "cells": [
  {
   "cell_type": "markdown",
   "metadata": {},
   "source": [
    "# Distance calculate\n"
   ]
  },
  {
   "cell_type": "code",
   "execution_count": 133,
   "metadata": {},
   "outputs": [],
   "source": [
    "import numpy as np\n",
    "import cv2\n",
    "from PIL import Image \n",
    "from ultralytics import YOLO\n",
    "import cv2\n",
    "import math"
   ]
  },
  {
   "cell_type": "code",
   "execution_count": 134,
   "metadata": {},
   "outputs": [
    {
     "name": "stdout",
     "output_type": "stream",
     "text": [
      "The dimensions of the image are: 2592 x 1944\n"
     ]
    }
   ],
   "source": [
    "filepath = r\"D:\\python\\Distance_measurement\\CheckerBoards\\3.jpg\"\n",
    "\n",
    "img = Image.open (filepath)\n",
    "\n",
    "width, height = img.size\n",
    "\n",
    "print (\"The dimensions of the image are:\", width, \"x\", height)"
   ]
  },
  {
   "cell_type": "markdown",
   "metadata": {},
   "source": [
    "##### Define camera parameters"
   ]
  },
  {
   "cell_type": "code",
   "execution_count": 135,
   "metadata": {},
   "outputs": [
    {
     "data": {
      "text/plain": [
       "array([[       2441,           0,        1944],\n",
       "       [          0,      2434.7,        2592],\n",
       "       [          0,           0,           1]])"
      ]
     },
     "metadata": {},
     "output_type": "display_data"
    }
   ],
   "source": [
    "fx = 2440.9540138328043\n",
    "fy = 2434.6728574963054\n",
    "cx = 1944\n",
    "cy = 2592\n",
    "ppx = 1248.1362594555521\n",
    "ppy = 957.0167856547552\n",
    "mtx = np.array([[fx, 0, cx],\n",
    "                [0, fy, cy],\n",
    "                [0, 0, 1]])\n",
    "# focal length\n",
    "f = (fx + fy) / 2\n",
    "display(mtx)"
   ]
  },
  {
   "cell_type": "markdown",
   "metadata": {},
   "source": [
    "##### Define distortion parameters"
   ]
  },
  {
   "cell_type": "code",
   "execution_count": 136,
   "metadata": {},
   "outputs": [],
   "source": [
    "rk1 = 0.10461012298345916\n",
    "rk2 = -0.005435444683453119\n",
    "rk3 = -1.0492719403629378\n",
    "tp1 = 0.0006065919889218954\n",
    "tp2 = 0.004444262737182748"
   ]
  },
  {
   "cell_type": "markdown",
   "metadata": {},
   "source": [
    "##### Getting xmax, ymax, xmin, ymin using YOLOv8"
   ]
  },
  {
   "cell_type": "code",
   "execution_count": 137,
   "metadata": {},
   "outputs": [],
   "source": [
    "model = YOLO(\"yolov8n.pt\")\n"
   ]
  },
  {
   "cell_type": "code",
   "execution_count": 138,
   "metadata": {},
   "outputs": [],
   "source": [
    "img = cv2.imread(r'D:\\python\\Distance_measurement\\raw_images\\medium\\medium0.jpg')\n",
    "# cv2.imshow(\"image\", img)\n",
    "# cv2.waitKey(0)"
   ]
  },
  {
   "cell_type": "markdown",
   "metadata": {},
   "source": [
    "##### Applying YOLOv8"
   ]
  },
  {
   "cell_type": "code",
   "execution_count": 139,
   "metadata": {},
   "outputs": [
    {
     "name": "stdout",
     "output_type": "stream",
     "text": [
      "156 291 67 264\n"
     ]
    }
   ],
   "source": [
    "CONFIDENCE_THRESHOLD = 0.8\n",
    "GREEN = (0, 255, 0)\n",
    "\n",
    "detections = model(img, verbose=False)[0]\n",
    "for data in detections.boxes.data.tolist():\n",
    "        # extract the confidence (i.e., probability) associated with the detection\n",
    "        confidence = data[4]\n",
    "\n",
    "        # filter out weak detections by ensuring the \n",
    "        # confidence is greater than the minimum confidence\n",
    "        if float(confidence) < CONFIDENCE_THRESHOLD:\n",
    "            continue\n",
    "\n",
    "        # if the confidence is greater than the minimum confidence,\n",
    "        # draw the bounding box on the frame\n",
    "        xmin, ymin, xmax, ymax = int(data[0]), int(data[1]), int(data[2]), int(data[3])\n",
    "        cv2.rectangle(img, (xmin, ymin) , (xmax, ymax), GREEN, 2)\n",
    "cv2.imshow(\"Frame\", img)\n",
    "cv2.waitKey(0)\n",
    "cv2.destroyAllWindows()\n",
    "print(xmin, xmax, ymin, ymax)"
   ]
  },
  {
   "cell_type": "markdown",
   "metadata": {},
   "source": [
    "##### Object depth estimation"
   ]
  },
  {
   "cell_type": "code",
   "execution_count": 140,
   "metadata": {},
   "outputs": [
    {
     "data": {
      "text/plain": [
       "223.5"
      ]
     },
     "metadata": {},
     "output_type": "display_data"
    },
    {
     "data": {
      "text/plain": [
       "264"
      ]
     },
     "metadata": {},
     "output_type": "display_data"
    }
   ],
   "source": [
    "xf = 0.5 * (xmin + xmax)\n",
    "yf = ymax\n",
    "display(xf, yf)"
   ]
  },
  {
   "cell_type": "code",
   "execution_count": 141,
   "metadata": {},
   "outputs": [
    {
     "data": {
      "text/plain": [
       "-0.7048473630596825"
      ]
     },
     "metadata": {},
     "output_type": "display_data"
    },
    {
     "data": {
      "text/plain": [
       "-0.9561859585496828"
      ]
     },
     "metadata": {},
     "output_type": "display_data"
    }
   ],
   "source": [
    "xn = (xf - cx) / fx\n",
    "yn = (yf - cy) / fy\n",
    "display(xn, yn)"
   ]
  },
  {
   "cell_type": "markdown",
   "metadata": {},
   "source": [
    "P: primary point in 2D image<br>\n",
    "F: Human foot point in 2D image<br>\n",
    "F: corresponding point of P in 3D<br>\n",
    "F': corresponding Human foot point in 3D<br>"
   ]
  },
  {
   "cell_type": "code",
   "execution_count": 142,
   "metadata": {},
   "outputs": [
    {
     "data": {
      "text/plain": [
       "1.0514622242382672"
      ]
     },
     "metadata": {},
     "output_type": "display_data"
    }
   ],
   "source": [
    "H       = 1                             # Camera height\n",
    "alpha   = math.radians(18)              # Camera angle\n",
    "Zp      = H * (1 / math.cos(alpha))     # Zp = OP'\n",
    "display(Zp)"
   ]
  },
  {
   "cell_type": "code",
   "execution_count": 143,
   "metadata": {},
   "outputs": [
    {
     "data": {
      "text/plain": [
       "972.0"
      ]
     },
     "metadata": {},
     "output_type": "display_data"
    },
    {
     "data": {
      "text/plain": [
       "1296.0"
      ]
     },
     "metadata": {},
     "output_type": "display_data"
    },
    {
     "data": {
      "text/plain": [
       "2437.813435664555"
      ]
     },
     "metadata": {},
     "output_type": "display_data"
    }
   ],
   "source": [
    "P = (cx / 2, cy / 2)\n",
    "B = (0, P[1])\n",
    "A = (P[0], 0)\n",
    "O = (P[0], P[1], H)\n",
    "BP = math.sqrt((P[0] - B[0])**2 + (P[1] - B[1])**2)\n",
    "AP = math.sqrt((P[0] - A[0])**2 + (P[1] - A[1])**2)\n",
    "OP = f\n",
    "F = (xf, yf)\n",
    "tan_BOP = BP / OP\n",
    "tan_AOP = AP / OP\n",
    "display(BP, AP, OP)\n"
   ]
  },
  {
   "cell_type": "code",
   "execution_count": 144,
   "metadata": {},
   "outputs": [],
   "source": [
    "dx = 1000 * f * tan_BOP\n",
    "dy = 1000 * f * tan_AOP\n",
    "sx = cx / dx\n",
    "sy = cy / dy\n",
    "\n",
    "d = math.sqrt(((cx - xf)/sx)**2 + ((cy -yf)/sy)**2)\n",
    "teta = math.atan(d / f)\n",
    "Z = Zp * (1/math.cos(teta))\n",
    "xc = xn * Z\n",
    "yc = yn * Z\n",
    "zc = Z  "
   ]
  },
  {
   "cell_type": "code",
   "execution_count": 145,
   "metadata": {},
   "outputs": [
    {
     "data": {
      "text/plain": [
       "-298.2056824702954"
      ]
     },
     "metadata": {},
     "output_type": "display_data"
    },
    {
     "data": {
      "text/plain": [
       "842.7706043507735"
      ]
     },
     "metadata": {},
     "output_type": "display_data"
    },
    {
     "data": {
      "text/plain": [
       "567.7104146997771"
      ]
     },
     "metadata": {},
     "output_type": "display_data"
    }
   ],
   "source": [
    "# Angle of heading with respect to North: p\n",
    "p = math.radians(10)\n",
    "\n",
    "xb = xc\n",
    "yb = yc*math.cos(alpha)\n",
    "zb = -yc*math.sin(alpha) + zc*math.cos(alpha)\n",
    "\n",
    "E = zb*math.sin(p) + xb*math.cos(p)\n",
    "N = zb*math.cos(p) - xb*math.sin(p)\n",
    "U = -yb\n",
    "\n",
    "display(E, N, U)"
   ]
  },
  {
   "cell_type": "code",
   "execution_count": 146,
   "metadata": {},
   "outputs": [],
   "source": [
    "b = math.atan(abs(E / N))\n",
    "s = math.sqrt(E**2 + N**2)\n",
    "dX = s*math.sin(b)\n",
    "dY = s*math.cos(b)"
   ]
  },
  {
   "cell_type": "code",
   "execution_count": 147,
   "metadata": {},
   "outputs": [],
   "source": [
    "UAV_lat = 21.0042302\n",
    "UAB_lon = 105.8426075\n",
    "\n",
    "delta_lo = dX / (11320 * math.cos(math.radians(UAB_lon)))\n",
    "delta_la = dY / 110540"
   ]
  },
  {
   "cell_type": "code",
   "execution_count": 148,
   "metadata": {},
   "outputs": [
    {
     "data": {
      "text/plain": [
       "21.011854323433603"
      ]
     },
     "metadata": {},
     "output_type": "display_data"
    },
    {
     "data": {
      "text/plain": [
       "105.74611053478255"
      ]
     },
     "metadata": {},
     "output_type": "display_data"
    }
   ],
   "source": [
    "laf = UAV_lat + delta_la\n",
    "lof = UAB_lon + delta_lo\n",
    "display(laf, lof)"
   ]
  }
 ],
 "metadata": {
  "kernelspec": {
   "display_name": "venv",
   "language": "python",
   "name": "python3"
  },
  "language_info": {
   "codemirror_mode": {
    "name": "ipython",
    "version": 3
   },
   "file_extension": ".py",
   "mimetype": "text/x-python",
   "name": "python",
   "nbconvert_exporter": "python",
   "pygments_lexer": "ipython3",
   "version": "3.10.11"
  }
 },
 "nbformat": 4,
 "nbformat_minor": 2
}
